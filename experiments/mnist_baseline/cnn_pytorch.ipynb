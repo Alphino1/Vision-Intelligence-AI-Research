{
 "cells": [
  {
   "cell_type": "markdown",
   "id": "123c34ad",
   "metadata": {
    "_cell_guid": "6b5c0236-8507-490b-9ede-f0c5f67a2c50",
    "_uuid": "0cecfe02-f52a-4bac-ae89-ebf83524320b",
    "collapsed": false,
    "jupyter": {
     "outputs_hidden": false
    },
    "papermill": {
     "duration": 0.005534,
     "end_time": "2025-07-08T11:45:15.083350",
     "exception": false,
     "start_time": "2025-07-08T11:45:15.077816",
     "status": "completed"
    },
    "tags": []
   },
   "source": [
    "\n",
    "<div style=\"border: 2px solid #444; padding: 10px; border-radius: 4px; background-color: #f5f5f5; font-size:18px; font-weight:bold; margin-bottom: 15px;\">\n",
    "MNIST Digit Recognizer with PyTorch\n",
    "</div>"
   ]
  },
  {
   "cell_type": "markdown",
   "id": "c9f29e7d",
   "metadata": {
    "_cell_guid": "c99736f3-ae5f-40ef-a03d-25bc86c72b0a",
    "_uuid": "fbd6fa80-2cf5-4de5-b17b-ad53e5b74265",
    "collapsed": false,
    "jupyter": {
     "outputs_hidden": false
    },
    "papermill": {
     "duration": 0.004249,
     "end_time": "2025-07-08T11:45:15.092668",
     "exception": false,
     "start_time": "2025-07-08T11:45:15.088419",
     "status": "completed"
    },
    "tags": []
   },
   "source": [
    "**Objective:** Classify handwritten digit images (0–9) from the Kaggle “Digit Recognizer” (MNIST) dataset. MNIST is a canonical computer vision benchmark of 28×28 grayscale digit images. It contains 60,000 training and 10,000 test images. The task is to build a convolutional neural network (CNN) from first principles for high accuracy digit classification, with requisite scientific rigor and transparency. We load and preprocess the data, define a CNN with modern modules (BatchNorm, Dropout), train it with a detailed loop, and evaluate it with metrics (accuracy, confusion matrix, per-class accuracy). We will also generate final Kaggle formatted predictions (ImageId,Label) for submission."
   ]
  },
  {
   "cell_type": "markdown",
   "id": "e6471ba3",
   "metadata": {
    "_cell_guid": "f6abfb13-5a32-4ff2-af5c-ba7bd60c08ff",
    "_uuid": "2ab60bf6-e641-49c4-a45b-3b09fea0d0cd",
    "collapsed": false,
    "jupyter": {
     "outputs_hidden": false
    },
    "papermill": {
     "duration": 0.004141,
     "end_time": "2025-07-08T11:45:15.101294",
     "exception": false,
     "start_time": "2025-07-08T11:45:15.097153",
     "status": "completed"
    },
    "tags": []
   },
   "source": [
    "\n",
    "<div style=\"border: 2px solid #444; padding: 10px; border-radius: 4px; background-color: #f5f5f5; font-size:18px; font-weight:bold; margin-bottom: 15px;\">\n",
    " Setup and Data Loading\n",
    "</div>"
   ]
  },
  {
   "cell_type": "code",
   "execution_count": 1,
   "id": "45f19cbc",
   "metadata": {
    "_cell_guid": "15edad30-0ec6-4a05-8b3f-ea663b2a1cb4",
    "_uuid": "477bdd76-3b08-4184-acab-4b870be76e0d",
    "collapsed": false,
    "execution": {
     "iopub.execute_input": "2025-07-08T11:45:15.111328Z",
     "iopub.status.busy": "2025-07-08T11:45:15.111031Z",
     "iopub.status.idle": "2025-07-08T11:45:27.138808Z",
     "shell.execute_reply": "2025-07-08T11:45:27.137809Z"
    },
    "jupyter": {
     "outputs_hidden": false
    },
    "papermill": {
     "duration": 12.034459,
     "end_time": "2025-07-08T11:45:27.140238",
     "exception": false,
     "start_time": "2025-07-08T11:45:15.105779",
     "status": "completed"
    },
    "tags": []
   },
   "outputs": [
    {
     "name": "stdout",
     "output_type": "stream",
     "text": [
      "Using device: cuda\n"
     ]
    }
   ],
   "source": [
    "import os\n",
    "import random\n",
    "import numpy as np\n",
    "import pandas as pd\n",
    "import matplotlib.pyplot as plt\n",
    "import torch\n",
    "import torch.nn as nn\n",
    "import torch.optim as optim\n",
    "from torch.utils.data import Dataset, DataLoader\n",
    "from torchvision import transforms\n",
    "from sklearn.model_selection import train_test_split\n",
    "from sklearn.metrics import confusion_matrix, accuracy_score\n",
    "\n",
    "# Reproducibility: fix random seeds\n",
    "seed = 42\n",
    "random.seed(seed)\n",
    "np.random.seed(seed)\n",
    "torch.manual_seed(seed)\n",
    "torch.cuda.manual_seed_all(seed)\n",
    "\n",
    "# Device configuration: use GPU if available\n",
    "device = torch.device(\"cuda\" if torch.cuda.is_available() else \"cpu\")\n",
    "print(f\"Using device: {device}\")"
   ]
  },
  {
   "cell_type": "markdown",
   "id": "1eaf8ea3",
   "metadata": {
    "_cell_guid": "5cdeaa09-6a2b-488a-8ce6-7e778a32749e",
    "_uuid": "b0a01f84-23ea-43c6-bb09-f03af20ee382",
    "collapsed": false,
    "jupyter": {
     "outputs_hidden": false
    },
    "papermill": {
     "duration": 0.004341,
     "end_time": "2025-07-08T11:45:27.149361",
     "exception": false,
     "start_time": "2025-07-08T11:45:27.145020",
     "status": "completed"
    },
    "tags": []
   },
   "source": [
    "We set fixed random seeds for Python, NumPy, and Torch to ensure reproducible splits and training outcomes.\n",
    "\n",
    "We configure the compute device for model training."
   ]
  },
  {
   "cell_type": "code",
   "execution_count": 2,
   "id": "65e960fd",
   "metadata": {
    "_cell_guid": "230246db-22b6-4525-b731-b9cc64ef826b",
    "_uuid": "b6de42f6-7e17-40aa-bb44-34903f8497bd",
    "collapsed": false,
    "execution": {
     "iopub.execute_input": "2025-07-08T11:45:27.159773Z",
     "iopub.status.busy": "2025-07-08T11:45:27.159087Z",
     "iopub.status.idle": "2025-07-08T11:45:31.812951Z",
     "shell.execute_reply": "2025-07-08T11:45:31.812166Z"
    },
    "jupyter": {
     "outputs_hidden": false
    },
    "papermill": {
     "duration": 4.66027,
     "end_time": "2025-07-08T11:45:31.814211",
     "exception": false,
     "start_time": "2025-07-08T11:45:27.153941",
     "status": "completed"
    },
    "tags": []
   },
   "outputs": [
    {
     "name": "stdout",
     "output_type": "stream",
     "text": [
      "Train images: (42000, 28, 28), Train labels: (42000,)\n",
      "Test images: (28000, 28, 28)\n"
     ]
    }
   ],
   "source": [
    "# Load training and test data from CSV (Kaggle input path)\n",
    "train_df = pd.read_csv('../input/digit-recognizer/train.csv')\n",
    "test_df = pd.read_csv('../input/digit-recognizer/test.csv')\n",
    "\n",
    "# Separate labels and pixels\n",
    "train_labels = train_df['label'].values\n",
    "train_images = train_df.drop('label', axis=1).values\n",
    "test_images = test_df.values\n",
    "\n",
    "# Normalize pixel values to [0,1]\n",
    "# Original MNIST pixels are 0–255, so dividing by 255 yields [0,1].\n",
    "train_images = train_images.astype(np.float32) / 255.0\n",
    "test_images = test_images.astype(np.float32) / 255.0\n",
    "\n",
    "# Reshape to image tensors (N, 28, 28)\n",
    "train_images = train_images.reshape(-1, 28, 28)\n",
    "test_images = test_images.reshape(-1, 28, 28)\n",
    "\n",
    "print(f\"Train images: {train_images.shape}, Train labels: {train_labels.shape}\")\n",
    "print(f\"Test images: {test_images.shape}\")"
   ]
  },
  {
   "cell_type": "markdown",
   "id": "54ef1eac",
   "metadata": {
    "_cell_guid": "661c5896-8a0c-4185-b36a-eaf9acde087a",
    "_uuid": "19bee65e-c9bb-4fe2-8e0f-d7e32f563337",
    "collapsed": false,
    "jupyter": {
     "outputs_hidden": false
    },
    "papermill": {
     "duration": 0.004252,
     "end_time": "2025-07-08T11:45:31.823931",
     "exception": false,
     "start_time": "2025-07-08T11:45:31.819679",
     "status": "completed"
    },
    "tags": []
   },
   "source": [
    "We read train.csv and test.csv (provided by Kaggle). The train file has 785 columns: the first is label, the rest are pixels. Each image is 28×28 = 784 pixels.\n",
    "\n",
    "We separate features (pixels) and labels, normalize pixel intensities to [0,1], and reshape to (N,28,28)."
   ]
  },
  {
   "cell_type": "code",
   "execution_count": 3,
   "id": "d80851c4",
   "metadata": {
    "_cell_guid": "a9a4b859-487e-4517-acd3-a25b7b224606",
    "_uuid": "36596e13-e92c-4b20-984f-798c53fc0205",
    "collapsed": false,
    "execution": {
     "iopub.execute_input": "2025-07-08T11:45:31.833931Z",
     "iopub.status.busy": "2025-07-08T11:45:31.833675Z",
     "iopub.status.idle": "2025-07-08T11:45:32.191198Z",
     "shell.execute_reply": "2025-07-08T11:45:32.190549Z"
    },
    "jupyter": {
     "outputs_hidden": false
    },
    "papermill": {
     "duration": 0.364379,
     "end_time": "2025-07-08T11:45:32.192662",
     "exception": false,
     "start_time": "2025-07-08T11:45:31.828283",
     "status": "completed"
    },
    "tags": []
   },
   "outputs": [
    {
     "name": "stdout",
     "output_type": "stream",
     "text": [
      "Train split: (33600, 28, 28), Validation split: (8400, 28, 28)\n"
     ]
    }
   ],
   "source": [
    "# Create a train/validation split (80% train, 20% validation)\n",
    "X_train, X_val, y_train, y_val = train_test_split(\n",
    "    train_images, train_labels,\n",
    "    test_size=0.2,\n",
    "    stratify=train_labels,\n",
    "    random_state=seed\n",
    ")\n",
    "print(f\"Train split: {X_train.shape}, Validation split: {X_val.shape}\")"
   ]
  },
  {
   "cell_type": "markdown",
   "id": "78098b29",
   "metadata": {
    "_cell_guid": "a70fa6c6-7ba6-448f-aae3-8e2db86c0951",
    "_uuid": "3e481e62-d869-4dfc-8c42-e760e8cd10a3",
    "collapsed": false,
    "jupyter": {
     "outputs_hidden": false
    },
    "papermill": {
     "duration": 0.004927,
     "end_time": "2025-07-08T11:45:32.202690",
     "exception": false,
     "start_time": "2025-07-08T11:45:32.197763",
     "status": "completed"
    },
    "tags": []
   },
   "source": [
    "We hold out 20% of the training data for validation. Stratified split ensures each digit class is proportionally represented."
   ]
  },
  {
   "cell_type": "code",
   "execution_count": 4,
   "id": "001baa99",
   "metadata": {
    "_cell_guid": "d04e37b2-7326-4ecb-be65-f2a64088688b",
    "_uuid": "ad3b930d-becb-4048-9d39-e17e7501e403",
    "collapsed": false,
    "execution": {
     "iopub.execute_input": "2025-07-08T11:45:32.213284Z",
     "iopub.status.busy": "2025-07-08T11:45:32.212823Z",
     "iopub.status.idle": "2025-07-08T11:45:32.220552Z",
     "shell.execute_reply": "2025-07-08T11:45:32.219956Z"
    },
    "jupyter": {
     "outputs_hidden": false
    },
    "papermill": {
     "duration": 0.014371,
     "end_time": "2025-07-08T11:45:32.221703",
     "exception": false,
     "start_time": "2025-07-08T11:45:32.207332",
     "status": "completed"
    },
    "tags": []
   },
   "outputs": [],
   "source": [
    "# Define PyTorch Dataset with optional transforms\n",
    "class MNISTDataset(Dataset):\n",
    "    def __init__(self, images, labels=None, transform=None):\n",
    "        self.images = images\n",
    "        self.labels = labels\n",
    "        self.transform = transform\n",
    "        \n",
    "    def __len__(self):\n",
    "        return len(self.images)\n",
    "    \n",
    "    def __getitem__(self, idx):\n",
    "        img = self.images[idx]\n",
    "        # Convert the numpy image to a PIL image for transforms\n",
    "        # (MNIST is grayscale, so use mode 'F')\n",
    "        img = transforms.ToPILImage()(img)\n",
    "        if self.transform:\n",
    "            img = self.transform(img)\n",
    "        if self.labels is not None:\n",
    "            return img, int(self.labels[idx])\n",
    "        else:\n",
    "            return img\n",
    "\n",
    "# Data augmentation and normalization transforms\n",
    "train_transform = transforms.Compose([\n",
    "    transforms.RandomRotation(15),  # random rotation ±15°\n",
    "    transforms.ToTensor(),           # convert PIL image to PyTorch tensor (C,H,W) in [0,1]\n",
    "    transforms.Normalize((0.1307,), (0.3081,))  # standard MNIST mean/std\n",
    "])\n",
    "\n",
    "test_transform = transforms.Compose([\n",
    "    transforms.ToTensor(),\n",
    "    transforms.Normalize((0.1307,), (0.3081,))\n",
    "])\n",
    "\n",
    "# Create dataset objects\n",
    "train_dataset = MNISTDataset(X_train, y_train, transform=train_transform)\n",
    "val_dataset = MNISTDataset(X_val, y_val, transform=test_transform)\n",
    "test_dataset = MNISTDataset(test_images, labels=None, transform=test_transform)\n",
    "\n",
    "# DataLoaders\n",
    "batch_size = 128\n",
    "train_loader = DataLoader(train_dataset, batch_size=batch_size, shuffle=True)\n",
    "val_loader = DataLoader(val_dataset, batch_size=batch_size, shuffle=False)\n",
    "test_loader = DataLoader(test_dataset, batch_size=batch_size, shuffle=False)"
   ]
  },
  {
   "cell_type": "markdown",
   "id": "4e1db574",
   "metadata": {
    "_cell_guid": "1f56fe86-4840-48a1-8eef-b2babc41cef4",
    "_uuid": "9045e0a6-cd66-404b-8fa2-81e27544623e",
    "collapsed": false,
    "jupyter": {
     "outputs_hidden": false
    },
    "papermill": {
     "duration": 0.004553,
     "end_time": "2025-07-08T11:45:32.230927",
     "exception": false,
     "start_time": "2025-07-08T11:45:32.226374",
     "status": "completed"
    },
    "tags": []
   },
   "source": [
    "**Transforms:** We define random data augmentations for the training set: random rotation (±15°) to increase robustness. Both train and validation images are normalized with mean≈0.1307 and std≈0.3081 (standard MNIST stats).\n",
    "\n",
    "**Datasets:** We wrap the NumPy arrays in a custom MNIST Dataset so we can apply transforms on the fly.\n",
    "\n",
    "**DataLoaders:** These iterate over batches. We shuffle the training data but not the validation or test data."
   ]
  },
  {
   "cell_type": "code",
   "execution_count": 5,
   "id": "30a211d1",
   "metadata": {
    "_cell_guid": "dc182cf5-aea4-4448-a207-6a2cc0547e04",
    "_uuid": "f9d6398c-95b7-4448-8db3-88bd56f45a16",
    "collapsed": false,
    "execution": {
     "iopub.execute_input": "2025-07-08T11:45:32.243023Z",
     "iopub.status.busy": "2025-07-08T11:45:32.242745Z",
     "iopub.status.idle": "2025-07-08T11:45:32.568174Z",
     "shell.execute_reply": "2025-07-08T11:45:32.567532Z"
    },
    "jupyter": {
     "outputs_hidden": false
    },
    "papermill": {
     "duration": 0.332421,
     "end_time": "2025-07-08T11:45:32.569327",
     "exception": false,
     "start_time": "2025-07-08T11:45:32.236906",
     "status": "completed"
    },
    "tags": []
   },
   "outputs": [
    {
     "data": {
      "image/png": "[encoded data removed]",
      "text/plain": [
       "<Figure size 1000x200 with 5 Axes>"
      ]
     },
     "metadata": {},
     "output_type": "display_data"
    }
   ],
   "source": [
    "# Visualize a batch of training images with labels (for sanity check)\n",
    "images, labels = next(iter(train_loader))\n",
    "fig, axes = plt.subplots(1,5, figsize=(10,2))\n",
    "for i in range(5):\n",
    "    ax = axes[i]\n",
    "    img = images[i].squeeze().numpy()\n",
    "    ax.imshow(img, cmap='gray')\n",
    "    ax.set_title(f\"Label: {labels[i].item()}\")\n",
    "    ax.axis('off')\n",
    "plt.suptitle(\"Sample training images\")\n",
    "plt.show()"
   ]
  },
  {
   "cell_type": "markdown",
   "id": "411f5dbe",
   "metadata": {
    "_cell_guid": "25dbecb4-0120-447f-9846-914ab34aa94b",
    "_uuid": "3d7ed481-1b95-47da-9939-8e9e716e943e",
    "collapsed": false,
    "jupyter": {
     "outputs_hidden": false
    },
    "papermill": {
     "duration": 0.004681,
     "end_time": "2025-07-08T11:45:32.579323",
     "exception": false,
     "start_time": "2025-07-08T11:45:32.574642",
     "status": "completed"
    },
    "tags": []
   },
   "source": [
    "**Sample images:** A batch of training images is plotted (without axes) to verify loading and augmentation. (Plotting code shown for completeness.)"
   ]
  },
  {
   "cell_type": "markdown",
   "id": "2dd091ef",
   "metadata": {
    "_cell_guid": "03737730-4a3e-4939-a1b1-30ab31b367f3",
    "_uuid": "6d34fb6a-18db-41ef-b968-1717d40f158b",
    "collapsed": false,
    "jupyter": {
     "outputs_hidden": false
    },
    "papermill": {
     "duration": 0.00449,
     "end_time": "2025-07-08T11:45:32.588665",
     "exception": false,
     "start_time": "2025-07-08T11:45:32.584175",
     "status": "completed"
    },
    "tags": []
   },
   "source": [
    "---\n",
    "<div style=\"border: 2px solid #444; padding: 10px; border-radius: 4px; background-color: #f5f5f5; font-size:18px; font-weight:bold; margin-bottom: 15px;\">\n",
    "CNN Model Definition\n",
    "</div>\n",
    "\n",
    "We design a convolutional neural network (CNN) with a fully specified architecture, comprising sequential layers of convolution, batch normalization, activation, pooling, and dropout. The model is constructed with complete architectural transparency, with all components explicitly defined to ensure interpretability and precise control over feature extraction."
   ]
  },
  {
   "cell_type": "code",
   "execution_count": 6,
   "id": "d27537d4",
   "metadata": {
    "_cell_guid": "2f1c2053-8d9a-45cf-bbaa-0ee562437c18",
    "_uuid": "d50743db-0883-4cc3-a20b-800185f1af5c",
    "collapsed": false,
    "execution": {
     "iopub.execute_input": "2025-07-08T11:45:32.599198Z",
     "iopub.status.busy": "2025-07-08T11:45:32.598763Z",
     "iopub.status.idle": "2025-07-08T11:45:32.765740Z",
     "shell.execute_reply": "2025-07-08T11:45:32.764879Z"
    },
    "jupyter": {
     "outputs_hidden": false
    },
    "papermill": {
     "duration": 0.173674,
     "end_time": "2025-07-08T11:45:32.766980",
     "exception": false,
     "start_time": "2025-07-08T11:45:32.593306",
     "status": "completed"
    },
    "tags": []
   },
   "outputs": [
    {
     "name": "stdout",
     "output_type": "stream",
     "text": [
      "MNIST_CNN(\n",
      "  (features): Sequential(\n",
      "    (0): Conv2d(1, 32, kernel_size=(3, 3), stride=(1, 1), padding=(1, 1))\n",
      "    (1): BatchNorm2d(32, eps=1e-05, momentum=0.1, affine=True, track_running_stats=True)\n",
      "    (2): ReLU(inplace=True)\n",
      "    (3): MaxPool2d(kernel_size=2, stride=2, padding=0, dilation=1, ceil_mode=False)\n",
      "    (4): Conv2d(32, 64, kernel_size=(3, 3), stride=(1, 1), padding=(1, 1))\n",
      "    (5): BatchNorm2d(64, eps=1e-05, momentum=0.1, affine=True, track_running_stats=True)\n",
      "    (6): ReLU(inplace=True)\n",
      "    (7): MaxPool2d(kernel_size=2, stride=2, padding=0, dilation=1, ceil_mode=False)\n",
      "    (8): Conv2d(64, 128, kernel_size=(3, 3), stride=(1, 1), padding=(1, 1))\n",
      "    (9): BatchNorm2d(128, eps=1e-05, momentum=0.1, affine=True, track_running_stats=True)\n",
      "    (10): ReLU(inplace=True)\n",
      "  )\n",
      "  (classifier): Sequential(\n",
      "    (0): Dropout(p=0.5, inplace=False)\n",
      "    (1): Linear(in_features=6272, out_features=128, bias=True)\n",
      "    (2): ReLU(inplace=True)\n",
      "    (3): Dropout(p=0.5, inplace=False)\n",
      "    (4): Linear(in_features=128, out_features=64, bias=True)\n",
      "    (5): ReLU(inplace=True)\n",
      "    (6): Linear(in_features=64, out_features=10, bias=True)\n",
      "  )\n",
      ")\n"
     ]
    }
   ],
   "source": [
    "class MNIST_CNN(nn.Module):\n",
    "    def __init__(self):\n",
    "        super(MNIST_CNN, self).__init__()\n",
    "        # Convolutional feature extractor\n",
    "        self.features = nn.Sequential(\n",
    "            nn.Conv2d(1, 32, kernel_size=3, padding=1),  # conv1: 1->32\n",
    "            nn.BatchNorm2d(32),                           # BN after conv\n",
    "            nn.ReLU(inplace=True),\n",
    "            nn.MaxPool2d(2),                              # output 32x14x14\n",
    "            \n",
    "            nn.Conv2d(32, 64, kernel_size=3, padding=1),  # conv2: 32->64\n",
    "            nn.BatchNorm2d(64),\n",
    "            nn.ReLU(inplace=True),\n",
    "            nn.MaxPool2d(2),                              # output 64x7x7\n",
    "            \n",
    "            nn.Conv2d(64, 128, kernel_size=3, padding=1), # conv3: 64->128\n",
    "            nn.BatchNorm2d(128),\n",
    "            nn.ReLU(inplace=True),                         # no further pooling; output 128x7x7\n",
    "        )\n",
    "        \n",
    "        # Classifier (fully connected layers)\n",
    "        self.classifier = nn.Sequential(\n",
    "            nn.Dropout(p=0.5),                            # dropout regularization\n",
    "            nn.Linear(128 * 7 * 7, 128),\n",
    "            nn.ReLU(inplace=True),\n",
    "            nn.Dropout(p=0.5),\n",
    "            nn.Linear(128, 64),\n",
    "            nn.ReLU(inplace=True),\n",
    "            nn.Linear(64, 10)                             # final outputs (logits) for 10 classes\n",
    "        )\n",
    "    \n",
    "    def forward(self, x):\n",
    "        x = self.features(x)\n",
    "        x = x.view(x.size(0), -1)  # flatten (batch_size, 128*7*7)\n",
    "        x = self.classifier(x)\n",
    "        return x\n",
    "\n",
    "model = MNIST_CNN().to(device)\n",
    "print(model)"
   ]
  },
  {
   "cell_type": "markdown",
   "id": "58f4b49a",
   "metadata": {
    "_cell_guid": "51a98597-1914-4d72-b0dd-4ca818c67990",
    "_uuid": "0b163f4a-dc5f-442a-9f56-bfac1d6b5ba1",
    "collapsed": false,
    "jupyter": {
     "outputs_hidden": false
    },
    "papermill": {
     "duration": 0.004714,
     "end_time": "2025-07-08T11:45:32.776874",
     "exception": false,
     "start_time": "2025-07-08T11:45:32.772160",
     "status": "completed"
    },
    "tags": []
   },
   "source": [
    "\n",
    "<div style=\"border: 2px solid #444; padding: 10px; border-radius: 4px; background-color: #f5f5f5; font-size:18px; font-weight:bold; margin-bottom: 15px;\">\n",
    "Architecture: \n",
    "</div>\n",
    "\n",
    "**Features:** Three convolutional blocks (Conv→BatchNorm→ReLU). MaxPooling after the first two reduces spatial size by 2. Batch normalization (BN) is applied to stabilize and accelerate training by normalizing each batch's features.\n",
    "\n",
    "**Classifier:** We flatten and feed into linear layers. We insert Dropout (p=0.5) before each hidden fully connected layer to reduce overfitting. Final layer outputs 10 logits (one per digit).\n",
    "\n",
    "**No pre-trained or high level abstractions:** All layers (Conv2d, BatchNorm2d, Linear, etc.) are explicitly instantiated and configured based on established architectural design principles in deep learning."
   ]
  },
  {
   "cell_type": "code",
   "execution_count": 7,
   "id": "cb27745f",
   "metadata": {
    "_cell_guid": "b2d9e823-2445-4b2d-a0f0-088712e9edeb",
    "_uuid": "5827642e-8dea-4d30-80c8-a422e37ce582",
    "collapsed": false,
    "execution": {
     "iopub.execute_input": "2025-07-08T11:45:32.787407Z",
     "iopub.status.busy": "2025-07-08T11:45:32.787159Z",
     "iopub.status.idle": "2025-07-08T11:45:32.791074Z",
     "shell.execute_reply": "2025-07-08T11:45:32.790534Z"
    },
    "jupyter": {
     "outputs_hidden": false
    },
    "papermill": {
     "duration": 0.010597,
     "end_time": "2025-07-08T11:45:32.792341",
     "exception": false,
     "start_time": "2025-07-08T11:45:32.781744",
     "status": "completed"
    },
    "tags": []
   },
   "outputs": [],
   "source": [
    "# Loss function and optimizer\n",
    "criterion = nn.CrossEntropyLoss()  # for multi-class classification\n",
    "optimizer = optim.Adam(model.parameters(), lr=0.001)"
   ]
  },
  {
   "cell_type": "markdown",
   "id": "8daacac3",
   "metadata": {
    "_cell_guid": "d6c0072b-5d48-415d-9c0c-6ff121b14381",
    "_uuid": "b56d4b11-148b-47e8-afd2-1f6069d0a673",
    "collapsed": false,
    "jupyter": {
     "outputs_hidden": false
    },
    "papermill": {
     "duration": 0.005167,
     "end_time": "2025-07-08T11:45:32.802630",
     "exception": false,
     "start_time": "2025-07-08T11:45:32.797463",
     "status": "completed"
    },
    "tags": []
   },
   "source": [
    "We use cross entropy loss (which applies softmax internally) and the Adam optimizer."
   ]
  },
  {
   "cell_type": "markdown",
   "id": "214073be",
   "metadata": {
    "_cell_guid": "a9ba8e4b-8d2b-44c1-af85-358bc5456ee0",
    "_uuid": "8895ec32-42cf-4cb4-8172-7e20f2250bdf",
    "collapsed": false,
    "jupyter": {
     "outputs_hidden": false
    },
    "papermill": {
     "duration": 0.005158,
     "end_time": "2025-07-08T11:45:32.812740",
     "exception": false,
     "start_time": "2025-07-08T11:45:32.807582",
     "status": "completed"
    },
    "tags": []
   },
   "source": [
    "---\n",
    "<div style=\"border: 2px solid #444; padding: 10px; border-radius: 4px; background-color: #f5f5f5; font-size:18px; font-weight:bold; margin-bottom: 15px;\">\n",
    "Training Loop\n",
    "</div>\n",
    "\n",
    "We train for a fixed number of epochs, tracking loss and accuracy. Each epoch runs a full pass over the training data, then evaluates on validation data."
   ]
  },
  {
   "cell_type": "code",
   "execution_count": 8,
   "id": "5531224a",
   "metadata": {
    "_cell_guid": "1e05a966-d26b-4875-b977-0b3c8374f069",
    "_uuid": "60ce0652-46e7-41d9-b7a7-eafc6fc0243b",
    "collapsed": false,
    "execution": {
     "iopub.execute_input": "2025-07-08T11:45:32.823719Z",
     "iopub.status.busy": "2025-07-08T11:45:32.823342Z",
     "iopub.status.idle": "2025-07-08T11:48:34.145608Z",
     "shell.execute_reply": "2025-07-08T11:48:34.144751Z"
    },
    "jupyter": {
     "outputs_hidden": false
    },
    "papermill": {
     "duration": 181.333707,
     "end_time": "2025-07-08T11:48:34.151396",
     "exception": false,
     "start_time": "2025-07-08T11:45:32.817689",
     "status": "completed"
    },
    "tags": []
   },
   "outputs": [
    {
     "name": "stdout",
     "output_type": "stream",
     "text": [
      "Epoch 1/15: Train Loss = 0.3266, Val Loss = 0.0663, Val Acc = 0.9793\n",
      "Epoch 2/15: Train Loss = 0.1266, Val Loss = 0.0564, Val Acc = 0.9835\n",
      "Epoch 3/15: Train Loss = 0.1055, Val Loss = 0.0485, Val Acc = 0.9858\n",
      "Epoch 4/15: Train Loss = 0.0927, Val Loss = 0.0459, Val Acc = 0.9876\n",
      "Epoch 5/15: Train Loss = 0.0805, Val Loss = 0.0409, Val Acc = 0.9889\n",
      "Epoch 6/15: Train Loss = 0.0727, Val Loss = 0.0354, Val Acc = 0.9892\n",
      "Epoch 7/15: Train Loss = 0.0730, Val Loss = 0.0472, Val Acc = 0.9861\n",
      "Epoch 8/15: Train Loss = 0.0690, Val Loss = 0.0566, Val Acc = 0.9843\n",
      "Epoch 9/15: Train Loss = 0.0666, Val Loss = 0.0316, Val Acc = 0.9911\n",
      "Epoch 10/15: Train Loss = 0.0577, Val Loss = 0.0334, Val Acc = 0.9917\n",
      "Epoch 11/15: Train Loss = 0.0554, Val Loss = 0.0347, Val Acc = 0.9902\n",
      "Epoch 12/15: Train Loss = 0.0584, Val Loss = 0.0354, Val Acc = 0.9896\n",
      "Epoch 13/15: Train Loss = 0.0544, Val Loss = 0.0380, Val Acc = 0.9902\n",
      "Epoch 14/15: Train Loss = 0.0478, Val Loss = 0.0306, Val Acc = 0.9915\n",
      "Epoch 15/15: Train Loss = 0.0521, Val Loss = 0.0250, Val Acc = 0.9930\n"
     ]
    }
   ],
   "source": [
    "num_epochs = 15\n",
    "train_losses = []\n",
    "val_losses = []\n",
    "val_accuracies = []\n",
    "\n",
    "for epoch in range(1, num_epochs+1):\n",
    "    model.train()\n",
    "    running_loss = 0.0\n",
    "    for images, labels in train_loader:\n",
    "        images, labels = images.to(device), labels.to(device)\n",
    "        optimizer.zero_grad()\n",
    "        outputs = model(images)\n",
    "        loss = criterion(outputs, labels)\n",
    "        loss.backward()\n",
    "        optimizer.step()\n",
    "        running_loss += loss.item() * images.size(0)\n",
    "    \n",
    "    epoch_loss = running_loss / len(train_loader.dataset)\n",
    "    train_losses.append(epoch_loss)\n",
    "    \n",
    "    # Validation\n",
    "    model.eval()\n",
    "    val_loss = 0.0\n",
    "    correct = 0\n",
    "    with torch.no_grad():\n",
    "        for images, labels in val_loader:\n",
    "            images, labels = images.to(device), labels.to(device)\n",
    "            outputs = model(images)\n",
    "            loss = criterion(outputs, labels)\n",
    "            val_loss += loss.item() * images.size(0)\n",
    "            preds = outputs.argmax(dim=1)\n",
    "            correct += (preds == labels).sum().item()\n",
    "    \n",
    "    val_loss /= len(val_loader.dataset)\n",
    "    val_acc = correct / len(val_loader.dataset)\n",
    "    val_losses.append(val_loss)\n",
    "    val_accuracies.append(val_acc)\n",
    "    \n",
    "    print(f\"Epoch {epoch}/{num_epochs}: Train Loss = {epoch_loss:.4f}, Val Loss = {val_loss:.4f}, Val Acc = {val_acc:.4f}\")"
   ]
  },
  {
   "cell_type": "markdown",
   "id": "34d1a38f",
   "metadata": {
    "_cell_guid": "d56bd2a6-7b38-4f16-9444-cd7113ca12e8",
    "_uuid": "696eea2c-e9c7-42be-8a94-a3b76276e075",
    "collapsed": false,
    "jupyter": {
     "outputs_hidden": false
    },
    "papermill": {
     "duration": 0.005371,
     "end_time": "2025-07-08T11:48:34.162345",
     "exception": false,
     "start_time": "2025-07-08T11:48:34.156974",
     "status": "completed"
    },
    "tags": []
   },
   "source": [
    "**Epoch loop:** We accumulate total training loss and compute average. After each epoch, we switch to evaluation mode (model.eval()) to compute validation loss and accuracy (without gradient updates).\n",
    "\n",
    "**Metrics:** We  tried to record training loss, validation loss, and validation accuracy each epoch. This allows plotting learning curves and detecting overfitting/underfitting."
   ]
  },
  {
   "cell_type": "code",
   "execution_count": 9,
   "id": "a1ab2d2f",
   "metadata": {
    "_cell_guid": "17fff342-9b51-47ed-9c0d-a48dfcd093d7",
    "_uuid": "07a1ebc9-7593-4276-a14c-db5970988506",
    "collapsed": false,
    "execution": {
     "iopub.execute_input": "2025-07-08T11:48:34.174180Z",
     "iopub.status.busy": "2025-07-08T11:48:34.173938Z",
     "iopub.status.idle": "2025-07-08T11:48:34.631198Z",
     "shell.execute_reply": "2025-07-08T11:48:34.630465Z"
    },
    "jupyter": {
     "outputs_hidden": false
    },
    "papermill": {
     "duration": 0.464614,
     "end_time": "2025-07-08T11:48:34.632335",
     "exception": false,
     "start_time": "2025-07-08T11:48:34.167721",
     "status": "completed"
    },
    "tags": []
   },
   "outputs": [
    {
     "data": {
      "image/png": "[encoded data removed]",
      "text/plain": [
       "<Figure size 1200x400 with 2 Axes>"
      ]
     },
     "metadata": {},
     "output_type": "display_data"
    }
   ],
   "source": [
    "# Plot training and validation curves\n",
    "epochs = np.arange(1, num_epochs+1)\n",
    "plt.figure(figsize=(12,4))\n",
    "plt.subplot(1,2,1)\n",
    "plt.plot(epochs, train_losses, label='Train Loss')\n",
    "plt.plot(epochs, val_losses, label='Val Loss')\n",
    "plt.xlabel('Epoch'); plt.ylabel('Loss'); plt.legend()\n",
    "plt.title('Loss vs. Epoch')\n",
    "\n",
    "plt.subplot(1,2,2)\n",
    "plt.plot(epochs, val_accuracies, label='Val Accuracy')\n",
    "plt.xlabel('Epoch'); plt.ylabel('Accuracy')\n",
    "plt.ylim(0.0, 1.0); plt.legend()\n",
    "plt.title('Validation Accuracy')\n",
    "plt.show()"
   ]
  },
  {
   "cell_type": "markdown",
   "id": "f795bc78",
   "metadata": {
    "_cell_guid": "6f3c24f4-b071-4991-8b6a-ca77ab804581",
    "_uuid": "022aabb3-74a2-47e0-8fc8-aac7594d5fac",
    "collapsed": false,
    "jupyter": {
     "outputs_hidden": false
    },
    "papermill": {
     "duration": 0.00604,
     "end_time": "2025-07-08T11:48:34.645017",
     "exception": false,
     "start_time": "2025-07-08T11:48:34.638977",
     "status": "completed"
    },
    "tags": []
   },
   "source": [
    "**Learning Curves:** The plots tries to illustrate how the training loss decreases and how validation accuracy evolves. Ideally, training loss steadily falls while validation accuracy rises until convergence. Significant gaps between training and validation indicate overfitting. \n",
    "\n",
    "**Evaluation:** Confusion Matrix and Class Accuracy\n",
    "\n",
    "After training, we perform a detailed evaluation on the validation set."
   ]
  },
  {
   "cell_type": "code",
   "execution_count": 10,
   "id": "76153e94",
   "metadata": {
    "_cell_guid": "dd50cdfb-001c-4a9d-9885-0a1bc06c8c2d",
    "_uuid": "dac1b2df-54c8-4de7-a2a3-e8fa01d2a0ad",
    "collapsed": false,
    "execution": {
     "iopub.execute_input": "2025-07-08T11:48:34.658046Z",
     "iopub.status.busy": "2025-07-08T11:48:34.657810Z",
     "iopub.status.idle": "2025-07-08T11:48:36.259860Z",
     "shell.execute_reply": "2025-07-08T11:48:36.258888Z"
    },
    "jupyter": {
     "outputs_hidden": false
    },
    "papermill": {
     "duration": 1.61002,
     "end_time": "2025-07-08T11:48:36.261112",
     "exception": false,
     "start_time": "2025-07-08T11:48:34.651092",
     "status": "completed"
    },
    "tags": []
   },
   "outputs": [
    {
     "name": "stdout",
     "output_type": "stream",
     "text": [
      "Confusion matrix:\n",
      " [[823   0   0   0   0   0   3   0   0   1]\n",
      " [  0 933   2   1   0   0   0   1   0   0]\n",
      " [  0   0 833   1   0   0   0   1   0   0]\n",
      " [  1   0   0 864   0   2   0   1   1   1]\n",
      " [  0   1   0   0 809   0   1   1   0   2]\n",
      " [  0   0   0   4   0 749   1   0   2   3]\n",
      " [  0   0   0   0   0   1 825   0   1   0]\n",
      " [  0   2   3   1   1   0   0 873   0   0]\n",
      " [  1   0   0   1   0   1   1   0 805   4]\n",
      " [  3   0   0   0   3   1   0   3   1 827]]\n"
     ]
    }
   ],
   "source": [
    "model.eval()\n",
    "all_preds = []\n",
    "all_labels = []\n",
    "\n",
    "with torch.no_grad():\n",
    "    for images, labels in val_loader:\n",
    "        images, labels = images.to(device), labels.to(device)\n",
    "        outputs = model(images)\n",
    "        preds = outputs.argmax(dim=1)\n",
    "        all_preds.append(preds.cpu().numpy())\n",
    "        all_labels.append(labels.cpu().numpy())\n",
    "\n",
    "all_preds = np.concatenate(all_preds)\n",
    "all_labels = np.concatenate(all_labels)\n",
    "\n",
    "# Compute confusion matrix\n",
    "cm = confusion_matrix(all_labels, all_preds)\n",
    "print(\"Confusion matrix:\\n\", cm)"
   ]
  },
  {
   "cell_type": "markdown",
   "id": "a23e2964",
   "metadata": {
    "_cell_guid": "857ac6d2-8744-471f-96e2-39be867db395",
    "_uuid": "9e2ea2fa-e05a-4432-93be-6f57a5f7d6cf",
    "collapsed": false,
    "jupyter": {
     "outputs_hidden": false
    },
    "papermill": {
     "duration": 0.006349,
     "end_time": "2025-07-08T11:48:36.274433",
     "exception": false,
     "start_time": "2025-07-08T11:48:36.268084",
     "status": "completed"
    },
    "tags": []
   },
   "source": [
    "**Confusion Matrix:** We use sklearn.metrics.confusion_matrix to show counts of true vs. predicted labels. Each row i (true class) shows how many samples were predicted as each class j. The diagonal entries are correct predictions. Off diagonals generally reveal common misclassifications."
   ]
  },
  {
   "cell_type": "code",
   "execution_count": 11,
   "id": "4ea5e05e",
   "metadata": {
    "_cell_guid": "6dd47b20-88b1-42c9-bf74-da60a8ca1c32",
    "_uuid": "df7d9baf-b06b-40b5-ad12-01904eddd2bf",
    "collapsed": false,
    "execution": {
     "iopub.execute_input": "2025-07-08T11:48:36.287876Z",
     "iopub.status.busy": "2025-07-08T11:48:36.287648Z",
     "iopub.status.idle": "2025-07-08T11:48:36.291889Z",
     "shell.execute_reply": "2025-07-08T11:48:36.291303Z"
    },
    "jupyter": {
     "outputs_hidden": false
    },
    "papermill": {
     "duration": 0.012376,
     "end_time": "2025-07-08T11:48:36.292960",
     "exception": false,
     "start_time": "2025-07-08T11:48:36.280584",
     "status": "completed"
    },
    "tags": []
   },
   "outputs": [
    {
     "name": "stdout",
     "output_type": "stream",
     "text": [
      "Per-class accuracy: [0.99516324 0.99573106 0.99760479 0.99310345 0.99385749 0.98682477\n",
      " 0.99758162 0.99204545 0.9901599  0.98687351]\n"
     ]
    }
   ],
   "source": [
    "# Normalize confusion matrix for visualization (optional)\n",
    "cm_norm = cm.astype(np.float32) / cm.sum(axis=1, keepdims=True)\n",
    "print(\"Per-class accuracy:\", np.diag(cm_norm))"
   ]
  },
  {
   "cell_type": "markdown",
   "id": "9d5f36d1",
   "metadata": {
    "_cell_guid": "2b8e0f55-5a11-4b5d-9ea2-07956f4a0757",
    "_uuid": "f7baa0ef-b829-41fb-8ada-1548c16e48a5",
    "collapsed": false,
    "jupyter": {
     "outputs_hidden": false
    },
    "papermill": {
     "duration": 0.006079,
     "end_time": "2025-07-08T11:48:36.305317",
     "exception": false,
     "start_time": "2025-07-08T11:48:36.299238",
     "status": "completed"
    },
    "tags": []
   },
   "source": [
    "**Class Accuracy:** We compute per-class accuracy as the diagonal of the normalized confusion matrix (cm_norm[i,i]). This shows how well each digit is recognized. A bar chart can visualize class-wise accuracies to spot any classes that are systematically harder."
   ]
  },
  {
   "cell_type": "code",
   "execution_count": 12,
   "id": "ac41ac99",
   "metadata": {
    "_cell_guid": "0dfcb5d9-7e86-4608-a5a8-db04bf710262",
    "_uuid": "3c3cce20-6a58-4c61-86a6-d986c36970c4",
    "collapsed": false,
    "execution": {
     "iopub.execute_input": "2025-07-08T11:48:36.318549Z",
     "iopub.status.busy": "2025-07-08T11:48:36.318307Z",
     "iopub.status.idle": "2025-07-08T11:48:36.452912Z",
     "shell.execute_reply": "2025-07-08T11:48:36.452203Z"
    },
    "jupyter": {
     "outputs_hidden": false
    },
    "papermill": {
     "duration": 0.142438,
     "end_time": "2025-07-08T11:48:36.454008",
     "exception": false,
     "start_time": "2025-07-08T11:48:36.311570",
     "status": "completed"
    },
    "tags": []
   },
   "outputs": [
    {
     "data": {
      "image/png": "[encoded data removed]",
      "text/plain": [
       "<Figure size 600x400 with 1 Axes>"
      ]
     },
     "metadata": {},
     "output_type": "display_data"
    }
   ],
   "source": [
    "classes = [str(i) for i in range(10)]\n",
    "acc_per_class = cm.diagonal() / cm.sum(axis=1)\n",
    "\n",
    "plt.figure(figsize=(6,4))\n",
    "plt.bar(classes, acc_per_class)\n",
    "plt.ylim(0,1.0)\n",
    "plt.xlabel('Digit Class'); plt.ylabel('Accuracy')\n",
    "plt.title('Class-wise Accuracy on Validation')\n",
    "plt.show()"
   ]
  },
  {
   "cell_type": "markdown",
   "id": "13941c71",
   "metadata": {
    "_cell_guid": "917e3c58-51ad-4e0b-b372-1bc8725e8051",
    "_uuid": "356d167e-1945-45fd-913a-d4d2a5c5e5ca",
    "collapsed": false,
    "jupyter": {
     "outputs_hidden": false
    },
    "papermill": {
     "duration": 0.00639,
     "end_time": "2025-07-08T11:48:36.467232",
     "exception": false,
     "start_time": "2025-07-08T11:48:36.460842",
     "status": "completed"
    },
    "tags": []
   },
   "source": [
    "The class-wise accuracy plot (not shown) helps diagnose if certain digits (e.g. 1 vs. 7) are more often confused."
   ]
  },
  {
   "cell_type": "markdown",
   "id": "000d8bef",
   "metadata": {
    "_cell_guid": "c13b93e3-f5c9-40a4-b64b-fd60a13e906e",
    "_uuid": "8f5d876a-c735-4461-be9b-8fd1f5151140",
    "collapsed": false,
    "jupyter": {
     "outputs_hidden": false
    },
    "papermill": {
     "duration": 0.006642,
     "end_time": "2025-07-08T11:48:36.480363",
     "exception": false,
     "start_time": "2025-07-08T11:48:36.473721",
     "status": "completed"
    },
    "tags": []
   },
   "source": [
    "---\n",
    "<div style=\"border: 2px solid #444; padding: 10px; border-radius: 4px; background-color: #f5f5f5; font-size:18px; font-weight:bold; margin-bottom: 15px;\">\n",
    "Test Predictions and Submission\n",
    "</div>\n",
    "\n",
    "Finally, we generate predictions on the Kaggle test set and format them for submission. The Kaggle evaluation uses categorization accuracy (fraction of correctly labeled test images). The submission requires a CSV with columns ImageId,Label, where ImageId starts at 1."
   ]
  },
  {
   "cell_type": "code",
   "execution_count": 13,
   "id": "5a3ec46f",
   "metadata": {
    "_cell_guid": "bfc9dc25-c8f2-45c7-a1d9-1c8fd7696ac1",
    "_uuid": "c8566c24-606b-483b-94a5-51ccdb059b93",
    "collapsed": false,
    "execution": {
     "iopub.execute_input": "2025-07-08T11:48:36.548325Z",
     "iopub.status.busy": "2025-07-08T11:48:36.547646Z",
     "iopub.status.idle": "2025-07-08T11:48:42.250891Z",
     "shell.execute_reply": "2025-07-08T11:48:42.250063Z"
    },
    "jupyter": {
     "outputs_hidden": false
    },
    "papermill": {
     "duration": 5.765193,
     "end_time": "2025-07-08T11:48:42.252042",
     "exception": false,
     "start_time": "2025-07-08T11:48:36.486849",
     "status": "completed"
    },
    "tags": []
   },
   "outputs": [
    {
     "name": "stdout",
     "output_type": "stream",
     "text": [
      "   ImageId  Label\n",
      "0        1      2\n",
      "1        2      0\n",
      "2        3      9\n",
      "3        4      9\n",
      "4        5      3\n"
     ]
    }
   ],
   "source": [
    "model.eval()\n",
    "image_ids = []\n",
    "predictions = []\n",
    "\n",
    "with torch.no_grad():\n",
    "    for i, images in enumerate(test_loader):\n",
    "        images = images.to(device)\n",
    "        outputs = model(images)\n",
    "        preds = outputs.argmax(dim=1).cpu().numpy()\n",
    "        # Compute the corresponding ImageIds for this batch\n",
    "        start_id = i * batch_size + 1\n",
    "        for offset, pred in enumerate(preds):\n",
    "            image_ids.append(start_id + offset)\n",
    "            predictions.append(pred)\n",
    "\n",
    "submission_df = pd.DataFrame({'ImageId': image_ids, 'Label': predictions})\n",
    "submission_df.to_csv(\"submission.csv\", index=False)\n",
    "print(submission_df.head())"
   ]
  },
  {
   "cell_type": "markdown",
   "id": "d2f65ebb",
   "metadata": {
    "_cell_guid": "035e7fbf-74ae-4be2-a737-2acc774e2af8",
    "_uuid": "54427b7e-8d71-415d-8b53-bdf8396f09d5",
    "collapsed": false,
    "jupyter": {
     "outputs_hidden": false
    },
    "papermill": {
     "duration": 0.006553,
     "end_time": "2025-07-08T11:48:42.265740",
     "exception": false,
     "start_time": "2025-07-08T11:48:42.259187",
     "status": "completed"
    },
    "tags": []
   },
   "source": [
    "We iterate through test_loader (which has no labels), predict the digit for each image, and record it.\n",
    "\n",
    "We assemble a DataFrame with the required format and save it as submission.csv. This file can be uploaded to Kaggle for leaderboard evaluation."
   ]
  },
  {
   "cell_type": "markdown",
   "id": "bbc4a3b1",
   "metadata": {
    "_cell_guid": "92845fac-8b6b-4655-80af-182e63406f44",
    "_uuid": "84fd35f7-1f64-4044-9816-f3dafcab32d0",
    "collapsed": false,
    "jupyter": {
     "outputs_hidden": false
    },
    "papermill": {
     "duration": 0.00697,
     "end_time": "2025-07-08T11:48:42.279302",
     "exception": false,
     "start_time": "2025-07-08T11:48:42.272332",
     "status": "completed"
    },
    "tags": []
   },
   "source": [
    "---\n",
    "<div style=\"border: 2px solid #444; padding: 10px; border-radius: 4px; background-color: #f5f5f5; font-size:18px; font-weight:bold; margin-bottom: 15px;\">\n",
    "Extensions and Future Work\n",
    "</div>\n",
    "\n",
    "This notebook estatblishes a baseline foundational CNN. Future experiments could include:\n",
    "\n",
    "**Interpretability:** Techniques like saliency maps or Grad-CAM can visualize which pixels most influence the network’s predictions, helping us interpret its decision-making. This aligns with model introspection research to trust CNN predictions.\n",
    "\n",
    "**Data Augmentation & Complexity:** Further augmentations (shifts, affine transforms) or more epochs can be explored to improve generalization.\n",
    "\n",
    "**Architectural Variations:** One could try deeper networks (e.g. residual blocks) or different regularization (e.g. weight decay, early stopping).\n",
    "\n",
    "**Domain Transfer:** The trained model could be transferred to related tasks. For example, the Fashion MNIST dataset contains 28×28 grayscale images of clothing items, intended as a more challenging replacement for MNIST. Adapting the model to Fashion MNIST (with fine-tuning) is an interesting extension.\n",
    "\n",
    "**Semi-supervised Learning:** Leveraging unlabeled data or advanced losses (e.g. consistency regularization) could further boost accuracy.\n",
    "\n",
    "**Performance Analysis:** We could benchmark this model’s speed/memory or experiment on respective hardware accelerators (GPUs/TPUs) for efficiency.\n",
    "\n",
    "To support clarity and reproducibility, all code has been written from the ground up using only essential libraries (PyTorch, torchvision, sklearn, pandas, matplotlib). The results (loss curves, confusion matrix, etc.) are fully determined by these computations and can be regenerated exactly given the fixed random seed."
   ]
  },
  {
   "cell_type": "markdown",
   "id": "8619ad0c",
   "metadata": {
    "_cell_guid": "34ff3f44-4671-4eeb-8b1b-588d5c54d818",
    "_uuid": "993ab1d5-59e6-4a08-b51a-9b2e9fce3539",
    "collapsed": false,
    "jupyter": {
     "outputs_hidden": false
    },
    "papermill": {
     "duration": 0.006363,
     "end_time": "2025-07-08T11:48:42.292241",
     "exception": false,
     "start_time": "2025-07-08T11:48:42.285878",
     "status": "completed"
    },
    "tags": []
   },
   "source": [
    "**Sources:** We used the standard MNIST and Kaggle descriptions, PyTorch documentation on BatchNorm and Dropout, and scikit-learn for evaluation metrics. The Fashion-MNIST reference is cited for context on dataset alternatives. These sources provide the factual and methodological backing for our implementation. We also benefited from the broader Kaggle community, whose shared notebooks and discussions provided valuable perspective and inspiration during development."
   ]
  }
 ],
 "metadata": {
  "kaggle": {
   "accelerator": "gpu",
   "dataSources": [
    {
     "databundleVersionId": 861823,
     "sourceId": 3004,
     "sourceType": "competition"
    }
   ],
   "isGpuEnabled": true,
   "isInternetEnabled": true,
   "language": "python",
   "sourceType": "notebook"
  },
  "kernelspec": {
   "display_name": "Python 3",
   "language": "python",
   "name": "python3"
  },
  "language_info": {
   "codemirror_mode": {
    "name": "ipython",
    "version": 3
   },
   "file_extension": ".py",
   "mimetype": "text/x-python",
   "name": "python",
   "nbconvert_exporter": "python",
   "pygments_lexer": "ipython3",
   "version": "3.11.13"
  },
  "papermill": {
   "default_parameters": {},
   "duration": 213.190774,
   "end_time": "2025-07-08T11:48:44.019918",
   "environment_variables": {},
   "exception": null,
   "input_path": "__notebook__.ipynb",
   "output_path": "__notebook__.ipynb",
   "parameters": {},
   "start_time": "2025-07-08T11:45:10.829144",
   "version": "2.6.0"
  }
 },
 "nbformat": 4,
 "nbformat_minor": 5
}
